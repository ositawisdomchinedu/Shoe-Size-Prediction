{
 "cells": [
  {
   "cell_type": "markdown",
   "id": "289fc65a-ecdb-4d11-8a4f-6e562c25797a",
   "metadata": {},
   "source": [
    "### Shoe Size Prediction\n",
    "### This notebook is design to use machine learning to predict the shoe size of individual using their Height and Weight "
   ]
  },
  {
   "cell_type": "markdown",
   "id": "377ef9ba-bc1a-4c6f-9713-253220e5d611",
   "metadata": {},
   "source": [
    "### Prepare the tools"
   ]
  },
  {
   "cell_type": "code",
   "execution_count": 40,
   "id": "3bcb067e-3815-4e48-86fd-8e952149d050",
   "metadata": {},
   "outputs": [],
   "source": [
    "# Regular EDA (exploratory data analysis) and plotting libraries \n",
    "import numpy as np \n",
    "import pandas as pd \n",
    "import matplotlib.pyplot as plt \n",
    "import seaborn as sns \n",
    "%matplotlib inline \n",
    "\n",
    "# Models for Scikit-learn \n",
    "from sklearn.linear_model import LinearRegression\n",
    "from sklearn.svm import SVR \n",
    "from sklearn.neighbors import KNeighborsRegressor \n",
    "from sklearn.ensemble import RandomForestRegressor\n",
    "from sklearn.ensemble import GradientBoostingRegressor\n",
    "\n",
    "# Model Evaluation \n",
    "from sklearn.model_selection import train_test_split \n",
    "from sklearn.model_selection import RandomizedSearchCV, GridSearchCV \n",
    "from sklearn.metrics import mean_squared_error\n",
    "from sklearn.metrics import root_mean_squared_error\n",
    "from sklearn.metrics import RocCurveDisplay"
   ]
  },
  {
   "cell_type": "code",
   "execution_count": 13,
   "id": "5ae56572-6c8d-4527-ad32-d381ca296ace",
   "metadata": {},
   "outputs": [
    {
     "data": {
      "text/html": [
       "<div>\n",
       "<style scoped>\n",
       "    .dataframe tbody tr th:only-of-type {\n",
       "        vertical-align: middle;\n",
       "    }\n",
       "\n",
       "    .dataframe tbody tr th {\n",
       "        vertical-align: top;\n",
       "    }\n",
       "\n",
       "    .dataframe thead th {\n",
       "        text-align: right;\n",
       "    }\n",
       "</style>\n",
       "<table border=\"1\" class=\"dataframe\">\n",
       "  <thead>\n",
       "    <tr style=\"text-align: right;\">\n",
       "      <th></th>\n",
       "      <th>Hight</th>\n",
       "      <th>Weight</th>\n",
       "      <th>Shoe size</th>\n",
       "      <th>Gender</th>\n",
       "    </tr>\n",
       "  </thead>\n",
       "  <tbody>\n",
       "    <tr>\n",
       "      <th>0</th>\n",
       "      <td>180</td>\n",
       "      <td>79.0</td>\n",
       "      <td>42</td>\n",
       "      <td>M</td>\n",
       "    </tr>\n",
       "    <tr>\n",
       "      <th>1</th>\n",
       "      <td>165</td>\n",
       "      <td>65.0</td>\n",
       "      <td>41</td>\n",
       "      <td>M</td>\n",
       "    </tr>\n",
       "    <tr>\n",
       "      <th>2</th>\n",
       "      <td>178</td>\n",
       "      <td>72.0</td>\n",
       "      <td>42</td>\n",
       "      <td>M</td>\n",
       "    </tr>\n",
       "    <tr>\n",
       "      <th>3</th>\n",
       "      <td>160</td>\n",
       "      <td>53.0</td>\n",
       "      <td>43</td>\n",
       "      <td>M</td>\n",
       "    </tr>\n",
       "    <tr>\n",
       "      <th>4</th>\n",
       "      <td>182</td>\n",
       "      <td>78.0</td>\n",
       "      <td>36</td>\n",
       "      <td>M</td>\n",
       "    </tr>\n",
       "  </tbody>\n",
       "</table>\n",
       "</div>"
      ],
      "text/plain": [
       "   Hight  Weight  Shoe size Gender\n",
       "0    180    79.0         42      M\n",
       "1    165    65.0         41      M\n",
       "2    178    72.0         42      M\n",
       "3    160    53.0         43      M\n",
       "4    182    78.0         36      M"
      ]
     },
     "execution_count": 13,
     "metadata": {},
     "output_type": "execute_result"
    }
   ],
   "source": [
    "# inport the training and validation sets \n",
    "df = pd.read_csv(\"data/shoe size.csv\")\n",
    "df.head()"
   ]
  },
  {
   "cell_type": "code",
   "execution_count": 14,
   "id": "e7502c28-eebc-42ee-8095-a9d9a052e4b6",
   "metadata": {},
   "outputs": [
    {
     "data": {
      "text/plain": [
       "(109, 4)"
      ]
     },
     "execution_count": 14,
     "metadata": {},
     "output_type": "execute_result"
    }
   ],
   "source": [
    "df.shape"
   ]
  },
  {
   "cell_type": "code",
   "execution_count": 15,
   "id": "58e5cae7-7281-4c50-a546-48d253cb1feb",
   "metadata": {},
   "outputs": [
    {
     "name": "stdout",
     "output_type": "stream",
     "text": [
      "<class 'pandas.core.frame.DataFrame'>\n",
      "RangeIndex: 109 entries, 0 to 108\n",
      "Data columns (total 4 columns):\n",
      " #   Column     Non-Null Count  Dtype  \n",
      "---  ------     --------------  -----  \n",
      " 0   Hight      109 non-null    int64  \n",
      " 1   Weight     109 non-null    float64\n",
      " 2   Shoe size  109 non-null    int64  \n",
      " 3   Gender     109 non-null    object \n",
      "dtypes: float64(1), int64(2), object(1)\n",
      "memory usage: 3.5+ KB\n"
     ]
    }
   ],
   "source": [
    "df.info()"
   ]
  },
  {
   "cell_type": "code",
   "execution_count": 16,
   "id": "f6519385-19d8-4661-8c53-e92f2930775e",
   "metadata": {},
   "outputs": [
    {
     "data": {
      "text/html": [
       "<div>\n",
       "<style scoped>\n",
       "    .dataframe tbody tr th:only-of-type {\n",
       "        vertical-align: middle;\n",
       "    }\n",
       "\n",
       "    .dataframe tbody tr th {\n",
       "        vertical-align: top;\n",
       "    }\n",
       "\n",
       "    .dataframe thead th {\n",
       "        text-align: right;\n",
       "    }\n",
       "</style>\n",
       "<table border=\"1\" class=\"dataframe\">\n",
       "  <thead>\n",
       "    <tr style=\"text-align: right;\">\n",
       "      <th></th>\n",
       "      <th>Hight</th>\n",
       "      <th>Weight</th>\n",
       "      <th>Shoe size</th>\n",
       "    </tr>\n",
       "  </thead>\n",
       "  <tbody>\n",
       "    <tr>\n",
       "      <th>count</th>\n",
       "      <td>109.000000</td>\n",
       "      <td>109.000000</td>\n",
       "      <td>109.000000</td>\n",
       "    </tr>\n",
       "    <tr>\n",
       "      <th>mean</th>\n",
       "      <td>173.403670</td>\n",
       "      <td>95.887156</td>\n",
       "      <td>40.743119</td>\n",
       "    </tr>\n",
       "    <tr>\n",
       "      <th>std</th>\n",
       "      <td>13.581114</td>\n",
       "      <td>30.423234</td>\n",
       "      <td>1.771187</td>\n",
       "    </tr>\n",
       "    <tr>\n",
       "      <th>min</th>\n",
       "      <td>140.000000</td>\n",
       "      <td>49.000000</td>\n",
       "      <td>36.000000</td>\n",
       "    </tr>\n",
       "    <tr>\n",
       "      <th>25%</th>\n",
       "      <td>164.000000</td>\n",
       "      <td>68.000000</td>\n",
       "      <td>39.000000</td>\n",
       "    </tr>\n",
       "    <tr>\n",
       "      <th>50%</th>\n",
       "      <td>174.000000</td>\n",
       "      <td>95.000000</td>\n",
       "      <td>41.000000</td>\n",
       "    </tr>\n",
       "    <tr>\n",
       "      <th>75%</th>\n",
       "      <td>185.000000</td>\n",
       "      <td>118.000000</td>\n",
       "      <td>42.000000</td>\n",
       "    </tr>\n",
       "    <tr>\n",
       "      <th>max</th>\n",
       "      <td>197.000000</td>\n",
       "      <td>159.000000</td>\n",
       "      <td>44.000000</td>\n",
       "    </tr>\n",
       "  </tbody>\n",
       "</table>\n",
       "</div>"
      ],
      "text/plain": [
       "            Hight      Weight   Shoe size\n",
       "count  109.000000  109.000000  109.000000\n",
       "mean   173.403670   95.887156   40.743119\n",
       "std     13.581114   30.423234    1.771187\n",
       "min    140.000000   49.000000   36.000000\n",
       "25%    164.000000   68.000000   39.000000\n",
       "50%    174.000000   95.000000   41.000000\n",
       "75%    185.000000  118.000000   42.000000\n",
       "max    197.000000  159.000000   44.000000"
      ]
     },
     "execution_count": 16,
     "metadata": {},
     "output_type": "execute_result"
    }
   ],
   "source": [
    "df.describe()"
   ]
  },
  {
   "cell_type": "code",
   "execution_count": 17,
   "id": "baf8d021-c17f-41ee-9f59-1e96ceae21d7",
   "metadata": {},
   "outputs": [
    {
     "data": {
      "text/plain": [
       "Hight        0\n",
       "Weight       0\n",
       "Shoe size    0\n",
       "Gender       0\n",
       "dtype: int64"
      ]
     },
     "execution_count": 17,
     "metadata": {},
     "output_type": "execute_result"
    }
   ],
   "source": [
    "df.isna().sum()"
   ]
  },
  {
   "cell_type": "code",
   "execution_count": 18,
   "id": "e6890b37-53cd-4c7d-91c8-5c519ca0ab2c",
   "metadata": {},
   "outputs": [
    {
     "data": {
      "text/plain": [
       "Gender\n",
       "M    60\n",
       "F    49\n",
       "Name: count, dtype: int64"
      ]
     },
     "execution_count": 18,
     "metadata": {},
     "output_type": "execute_result"
    }
   ],
   "source": [
    "df.Gender.value_counts()"
   ]
  },
  {
   "cell_type": "code",
   "execution_count": 20,
   "id": "6d3fc6e2-5436-40bb-84e0-e3b1aae0b07a",
   "metadata": {},
   "outputs": [],
   "source": [
    "X = df.drop(\"Shoe size\", axis=1)\n",
    "y = df[\"Shoe size\"]"
   ]
  },
  {
   "cell_type": "code",
   "execution_count": 21,
   "id": "da13e763-c9ce-4014-bfa5-10f3be56c12b",
   "metadata": {},
   "outputs": [
    {
     "data": {
      "text/plain": [
       "0    42\n",
       "1    41\n",
       "2    42\n",
       "3    43\n",
       "4    36\n",
       "Name: Shoe size, dtype: int64"
      ]
     },
     "execution_count": 21,
     "metadata": {},
     "output_type": "execute_result"
    }
   ],
   "source": [
    "y.head()"
   ]
  },
  {
   "cell_type": "code",
   "execution_count": 22,
   "id": "313224b7-5014-4a6c-b0d9-0ef43e005aa7",
   "metadata": {},
   "outputs": [
    {
     "data": {
      "text/html": [
       "<div>\n",
       "<style scoped>\n",
       "    .dataframe tbody tr th:only-of-type {\n",
       "        vertical-align: middle;\n",
       "    }\n",
       "\n",
       "    .dataframe tbody tr th {\n",
       "        vertical-align: top;\n",
       "    }\n",
       "\n",
       "    .dataframe thead th {\n",
       "        text-align: right;\n",
       "    }\n",
       "</style>\n",
       "<table border=\"1\" class=\"dataframe\">\n",
       "  <thead>\n",
       "    <tr style=\"text-align: right;\">\n",
       "      <th></th>\n",
       "      <th>Hight</th>\n",
       "      <th>Weight</th>\n",
       "      <th>Gender</th>\n",
       "    </tr>\n",
       "  </thead>\n",
       "  <tbody>\n",
       "    <tr>\n",
       "      <th>0</th>\n",
       "      <td>180</td>\n",
       "      <td>79.0</td>\n",
       "      <td>M</td>\n",
       "    </tr>\n",
       "    <tr>\n",
       "      <th>1</th>\n",
       "      <td>165</td>\n",
       "      <td>65.0</td>\n",
       "      <td>M</td>\n",
       "    </tr>\n",
       "    <tr>\n",
       "      <th>2</th>\n",
       "      <td>178</td>\n",
       "      <td>72.0</td>\n",
       "      <td>M</td>\n",
       "    </tr>\n",
       "    <tr>\n",
       "      <th>3</th>\n",
       "      <td>160</td>\n",
       "      <td>53.0</td>\n",
       "      <td>M</td>\n",
       "    </tr>\n",
       "    <tr>\n",
       "      <th>4</th>\n",
       "      <td>182</td>\n",
       "      <td>78.0</td>\n",
       "      <td>M</td>\n",
       "    </tr>\n",
       "  </tbody>\n",
       "</table>\n",
       "</div>"
      ],
      "text/plain": [
       "   Hight  Weight Gender\n",
       "0    180    79.0      M\n",
       "1    165    65.0      M\n",
       "2    178    72.0      M\n",
       "3    160    53.0      M\n",
       "4    182    78.0      M"
      ]
     },
     "execution_count": 22,
     "metadata": {},
     "output_type": "execute_result"
    }
   ],
   "source": [
    "X.head()"
   ]
  },
  {
   "cell_type": "code",
   "execution_count": 30,
   "id": "407782f3-8a54-4779-af71-89d04db68a14",
   "metadata": {},
   "outputs": [
    {
     "data": {
      "text/plain": [
       "(109, 3)"
      ]
     },
     "execution_count": 30,
     "metadata": {},
     "output_type": "execute_result"
    }
   ],
   "source": [
    "X.shape"
   ]
  },
  {
   "cell_type": "code",
   "execution_count": 24,
   "id": "f1ba14b0-6994-42ea-a125-bd536fadf567",
   "metadata": {},
   "outputs": [],
   "source": [
    "# split data into train and test set \n",
    "from sklearn.model_selection import train_test_split\n",
    "X_train, X_test, y_train, y_test=train_test_split(X, y, test_size=0.2)"
   ]
  },
  {
   "cell_type": "code",
   "execution_count": 31,
   "id": "06d9abdf-9607-4ed3-8aaf-273f16838d04",
   "metadata": {},
   "outputs": [
    {
     "data": {
      "text/plain": [
       "(87, 3)"
      ]
     },
     "execution_count": 31,
     "metadata": {},
     "output_type": "execute_result"
    }
   ],
   "source": [
    "X_train.shape"
   ]
  },
  {
   "cell_type": "code",
   "execution_count": 32,
   "id": "e34f7bdb-5f2f-4090-93b0-66b5895e37d2",
   "metadata": {},
   "outputs": [],
   "source": [
    "from sklearn.preprocessing import OneHotEncoder \n",
    "from sklearn.compose import ColumnTransformer \n",
    "\n",
    "categorical_feature = [\"Gender\"] \n",
    "one_hot = OneHotEncoder() \n",
    "transformer = ColumnTransformer([(\"one_hot\", \n",
    "                                  one_hot, \n",
    "                                 categorical_feature)], \n",
    "                               remainder=\"passthrough\") \n",
    "X_train_trans = transformer.fit_transform(X_train)\n",
    "X_test_trans = transformer.transform(X_test)"
   ]
  },
  {
   "cell_type": "code",
   "execution_count": 34,
   "id": "075bd496-a41d-42bf-a622-2aa17c274f51",
   "metadata": {},
   "outputs": [
    {
     "data": {
      "text/plain": [
       "array([[  0.,   1., 172.,  92.],\n",
       "       [  0.,   1., 186., 118.],\n",
       "       [  0.,   1., 163., 159.],\n",
       "       [  0.,   1., 169., 103.],\n",
       "       [  0.,   1., 165.,  65.],\n",
       "       [  1.,   0., 175., 120.],\n",
       "       [  0.,   1., 190.,  95.],\n",
       "       [  0.,   1., 184.,  66.],\n",
       "       [  1.,   0., 168.,  68.],\n",
       "       [  0.,   1., 190.,  83.],\n",
       "       [  1.,   0., 165.,  59.],\n",
       "       [  1.,   0., 195., 104.],\n",
       "       [  0.,   1., 193.,  54.],\n",
       "       [  1.,   0., 159.,  80.],\n",
       "       [  0.,   1., 172.,  55.],\n",
       "       [  1.,   0., 188., 122.],\n",
       "       [  0.,   1., 178.,  52.],\n",
       "       [  0.,   1., 187.,  62.],\n",
       "       [  0.,   1., 164.,  75.],\n",
       "       [  0.,   1., 181., 111.],\n",
       "       [  1.,   0., 149., 108.],\n",
       "       [  0.,   1., 172., 139.]])"
      ]
     },
     "execution_count": 34,
     "metadata": {},
     "output_type": "execute_result"
    }
   ],
   "source": [
    "X_test_trans"
   ]
  },
  {
   "cell_type": "code",
   "execution_count": 37,
   "id": "b8108dc4-0430-4ca4-81d2-8aec7a04b692",
   "metadata": {},
   "outputs": [],
   "source": [
    "# Put model into dictionary \n",
    "np.random.seed(42)\n",
    "models = {\"RandomForest\": RandomForestRegressor(),\n",
    "         \"LinearRegression\": LinearRegression(), \n",
    "         \"KNN\": KNeighborsRegressor(),\n",
    "         \"GBR\": GradientBoostingRegressor(), \n",
    "         \"SVR\": SVR()}"
   ]
  },
  {
   "cell_type": "code",
   "execution_count": 41,
   "id": "75780d12-63b1-4c4a-b204-1604292ae77f",
   "metadata": {},
   "outputs": [
    {
     "name": "stdout",
     "output_type": "stream",
     "text": [
      "Model: RandomForest\n",
      "Cofficient of Determination: 0.29\n",
      "Mean squared Error:\n",
      "1.392881238636364\n",
      "Root Mean Squared Error:\n",
      "1.180203897060319\n",
      "\n",
      "\n",
      "Model: LinearRegression\n",
      "Cofficient of Determination: 0.31\n",
      "Mean squared Error:\n",
      "1.3534638716854637\n",
      "Root Mean Squared Error:\n",
      "1.1633846619607222\n",
      "\n",
      "\n",
      "Model: KNN\n",
      "Cofficient of Determination: 0.25\n",
      "Mean squared Error:\n",
      "1.4745454545454557\n",
      "Root Mean Squared Error:\n",
      "1.2143086323276533\n",
      "\n",
      "\n",
      "Model: GBR\n",
      "Cofficient of Determination: -0.10\n",
      "Mean squared Error:\n",
      "2.149117367951472\n",
      "Root Mean Squared Error:\n",
      "1.4659868239351512\n",
      "\n",
      "\n",
      "Model: SVR\n",
      "Cofficient of Determination: 0.23\n",
      "Mean squared Error:\n",
      "1.499628851153851\n",
      "Root Mean Squared Error:\n",
      "1.2245933411356813\n",
      "\n",
      "\n"
     ]
    }
   ],
   "source": [
    "# Create a function to fit and score model \n",
    "def fit_and_score(models, X_train, y_train, X_test, y_test):\n",
    "    # Create an empty dictionary\n",
    "    model_scores = {}\n",
    "\n",
    "    # create a random seed \n",
    "    np.random.seed(42) \n",
    "\n",
    "    # fit and evaluate the models \n",
    "    for model_name, model in models.items(): \n",
    "        model.fit(X_train, y_train)\n",
    "        y_pred = model.predict(X_test)\n",
    "\n",
    "        # Create an accuracy \n",
    "        r2 = model.score(X_test, y_test)\n",
    "        model_scores[model_name] = r2 \n",
    "    \n",
    "        print(f\"Model: {model_name}\")\n",
    "        print(f\"Cofficient of Determination: {r2:.2f}\")\n",
    "        print(\"Mean squared Error:\")\n",
    "        print(mean_squared_error(y_test, y_pred))\n",
    "        print(\"Root Mean Squared Error:\")\n",
    "        print(root_mean_squared_error(y_test, y_pred))\n",
    "        print(\"\\n\")\n",
    "\n",
    "    return model_scores\n",
    "\n",
    "model_scores = fit_and_score(models = models, \n",
    "                            X_train = X_train_trans, \n",
    "                            y_train = y_train, \n",
    "                            X_test = X_test_trans, \n",
    "                            y_test = y_test)"
   ]
  },
  {
   "cell_type": "markdown",
   "id": "eebb5105-d801-48da-a130-a91a715555f7",
   "metadata": {},
   "source": [
    "### Cross Validation the dataset"
   ]
  },
  {
   "cell_type": "code",
   "execution_count": 45,
   "id": "e4c300a4-451a-4afc-b64b-84cb1c27dd8d",
   "metadata": {},
   "outputs": [
    {
     "name": "stdout",
     "output_type": "stream",
     "text": [
      "Evaluating RandomForest...\n",
      "Evaluating LinearRegression...\n",
      "Evaluating KNN...\n",
      "Evaluating GBR...\n",
      "Evaluating SVR...\n",
      "\n",
      "Model: RandomForest\n",
      "R2 Mean: 0.17 ± 0.23\n",
      "MSE Mean: 2.71 ± 0.82\n",
      "\n",
      "Model: LinearRegression\n",
      "R2 Mean: 0.27 ± 0.16\n",
      "MSE Mean: 2.35 ± 0.72\n",
      "\n",
      "Model: KNN\n",
      "R2 Mean: -0.01 ± 0.20\n",
      "MSE Mean: 3.18 ± 0.58\n",
      "\n",
      "Model: GBR\n",
      "R2 Mean: 0.05 ± 0.22\n",
      "MSE Mean: 3.01 ± 0.59\n",
      "\n",
      "Model: SVR\n",
      "R2 Mean: 0.17 ± 0.09\n",
      "MSE Mean: 2.78 ± 1.11\n"
     ]
    }
   ],
   "source": [
    "# Cross-validation settings\n",
    "from sklearn.model_selection import cross_val_score, KFold\n",
    "from sklearn.metrics import make_scorer, mean_squared_error, r2_score\n",
    "\n",
    "kf = KFold(n_splits=5, shuffle=True, random_state=42)  # 5-fold cross-validation\n",
    "\n",
    "# Metrics\n",
    "scoring = {\n",
    "    \"R2\": make_scorer(r2_score),\n",
    "    \"MSE\": make_scorer(mean_squared_error)\n",
    "}\n",
    "\n",
    "# Perform cross-validation\n",
    "results = {}\n",
    "for model_name, model in models.items():\n",
    "    print(f\"Evaluating {model_name}...\")\n",
    "    cv_r2 = cross_val_score(model, X_train_trans, y_train, cv=kf, scoring=\"r2\")\n",
    "    cv_mse = -cross_val_score(model, X_train_trans, y_train, cv=kf, scoring=\"neg_mean_squared_error\")\n",
    "    results[model_name] = {\n",
    "        \"R2 Mean\": np.mean(cv_r2),\n",
    "        \"MSE Mean\": np.mean(cv_mse),\n",
    "        \"R2 Std\": np.std(cv_r2),\n",
    "        \"MSE Std\": np.std(cv_mse)\n",
    "    }\n",
    "\n",
    "# Display results\n",
    "for model_name, metrics in results.items():\n",
    "    print(f\"\\nModel: {model_name}\")\n",
    "    print(f\"R2 Mean: {metrics['R2 Mean']:.2f} ± {metrics['R2 Std']:.2f}\")\n",
    "    print(f\"MSE Mean: {metrics['MSE Mean']:.2f} ± {metrics['MSE Std']:.2f}\")\n"
   ]
  },
  {
   "cell_type": "code",
   "execution_count": null,
   "id": "985ae898-ddba-414d-93b0-e73d96cc7e28",
   "metadata": {},
   "outputs": [],
   "source": []
  }
 ],
 "metadata": {
  "kernelspec": {
   "display_name": "Python 3 (ipykernel)",
   "language": "python",
   "name": "python3"
  },
  "language_info": {
   "codemirror_mode": {
    "name": "ipython",
    "version": 3
   },
   "file_extension": ".py",
   "mimetype": "text/x-python",
   "name": "python",
   "nbconvert_exporter": "python",
   "pygments_lexer": "ipython3",
   "version": "3.12.4"
  }
 },
 "nbformat": 4,
 "nbformat_minor": 5
}
